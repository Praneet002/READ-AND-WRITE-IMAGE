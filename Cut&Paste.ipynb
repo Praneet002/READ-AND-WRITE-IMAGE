{
 "cells": [
  {
   "cell_type": "code",
   "execution_count": 10,
   "id": "c87939c8",
   "metadata": {},
   "outputs": [],
   "source": [
    "import cv2"
   ]
  },
  {
   "cell_type": "code",
   "execution_count": 11,
   "id": "eadffe52",
   "metadata": {},
   "outputs": [],
   "source": [
    "img=cv2.imread('ben.jpg',-1)"
   ]
  },
  {
   "cell_type": "code",
   "execution_count": 12,
   "id": "840d7d0b",
   "metadata": {},
   "outputs": [],
   "source": [
    "resized_img = cv2.resize(img, None, fx=0.5, fy=0.5, interpolation=cv2.INTER_LINEAR)\n",
    "copied_portion=resized_img[150:250,250:450]\n",
    "resized_img[350:450,550:750]=copied_portion"
   ]
  },
  {
   "cell_type": "code",
   "execution_count": 13,
   "id": "515d66a7",
   "metadata": {},
   "outputs": [],
   "source": [
    "cv2.imshow('Jegathish-212221230041',resized_img)"
   ]
  },
  {
   "cell_type": "code",
   "execution_count": 14,
   "id": "753d96e2",
   "metadata": {},
   "outputs": [
    {
     "data": {
      "text/plain": [
       "-1"
      ]
     },
     "execution_count": 14,
     "metadata": {},
     "output_type": "execute_result"
    }
   ],
   "source": [
    "cv2.waitKey(0)"
   ]
  },
  {
   "cell_type": "code",
   "execution_count": 15,
   "id": "0cdfc7f0",
   "metadata": {},
   "outputs": [],
   "source": [
    "cv2.destroyAllWindows()"
   ]
  },
  {
   "cell_type": "code",
   "execution_count": null,
   "id": "c0ce4371",
   "metadata": {},
   "outputs": [],
   "source": []
  }
 ],
 "metadata": {
  "kernelspec": {
   "display_name": "Python 3",
   "language": "python",
   "name": "python3"
  },
  "language_info": {
   "codemirror_mode": {
    "name": "ipython",
    "version": 3
   },
   "file_extension": ".py",
   "mimetype": "text/x-python",
   "name": "python",
   "nbconvert_exporter": "python",
   "pygments_lexer": "ipython3",
   "version": "3.8.8"
  }
 },
 "nbformat": 4,
 "nbformat_minor": 5
}
