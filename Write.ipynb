{
 "cells": [
  {
   "cell_type": "code",
   "execution_count": 1,
   "id": "72ee2dae",
   "metadata": {},
   "outputs": [],
   "source": [
    "import cv2"
   ]
  },
  {
   "cell_type": "code",
   "execution_count": 2,
   "id": "1d3df702",
   "metadata": {},
   "outputs": [],
   "source": [
    "img=cv2.imread('ben.jpg',-1)"
   ]
  },
  {
   "cell_type": "code",
   "execution_count": 3,
   "id": "e0823f07",
   "metadata": {},
   "outputs": [
    {
     "data": {
      "text/plain": [
       "True"
      ]
     },
     "execution_count": 3,
     "metadata": {},
     "output_type": "execute_result"
    }
   ],
   "source": [
    "cv2.imwrite('writed_benjamin.png',img)"
   ]
  },
  {
   "cell_type": "code",
   "execution_count": null,
   "id": "99d48f81",
   "metadata": {},
   "outputs": [],
   "source": []
  }
 ],
 "metadata": {
  "kernelspec": {
   "display_name": "Python 3",
   "language": "python",
   "name": "python3"
  },
  "language_info": {
   "codemirror_mode": {
    "name": "ipython",
    "version": 3
   },
   "file_extension": ".py",
   "mimetype": "text/x-python",
   "name": "python",
   "nbconvert_exporter": "python",
   "pygments_lexer": "ipython3",
   "version": "3.8.8"
  }
 },
 "nbformat": 4,
 "nbformat_minor": 5
}
