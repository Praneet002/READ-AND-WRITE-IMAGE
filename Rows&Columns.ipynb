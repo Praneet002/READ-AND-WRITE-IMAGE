{
 "cells": [
  {
   "cell_type": "code",
   "execution_count": 1,
   "id": "469de924",
   "metadata": {},
   "outputs": [],
   "source": [
    "import cv2"
   ]
  },
  {
   "cell_type": "code",
   "execution_count": 2,
   "id": "a2ad37b5",
   "metadata": {},
   "outputs": [],
   "source": [
    "img = cv2.imread('ben.jpg', -1)"
   ]
  },
  {
   "cell_type": "code",
   "execution_count": 6,
   "id": "416009a8",
   "metadata": {},
   "outputs": [],
   "source": [
    "resized_img = cv2.resize(img, None, fx=0.7, fy=0.7, interpolation=cv2.INTER_LINEAR)\n",
    "for i in range(100,250):\n",
    " for j in range(100,500):\n",
    "     resized_img[i][j]=[255,250,255]\n",
    "cv2.imshow('Jegathish-212221230041',resized_img);"
   ]
  },
  {
   "cell_type": "code",
   "execution_count": 7,
   "id": "5ee95272",
   "metadata": {},
   "outputs": [
    {
     "data": {
      "text/plain": [
       "-1"
      ]
     },
     "execution_count": 7,
     "metadata": {},
     "output_type": "execute_result"
    }
   ],
   "source": [
    "cv2.waitKey(0)"
   ]
  },
  {
   "cell_type": "code",
   "execution_count": 5,
   "id": "eb461b40",
   "metadata": {},
   "outputs": [],
   "source": [
    "cv2.destroyAllWindows()"
   ]
  },
  {
   "cell_type": "code",
   "execution_count": null,
   "id": "4786d22b",
   "metadata": {},
   "outputs": [],
   "source": []
  }
 ],
 "metadata": {
  "kernelspec": {
   "display_name": "Python 3",
   "language": "python",
   "name": "python3"
  },
  "language_info": {
   "codemirror_mode": {
    "name": "ipython",
    "version": 3
   },
   "file_extension": ".py",
   "mimetype": "text/x-python",
   "name": "python",
   "nbconvert_exporter": "python",
   "pygments_lexer": "ipython3",
   "version": "3.8.8"
  }
 },
 "nbformat": 4,
 "nbformat_minor": 5
}
